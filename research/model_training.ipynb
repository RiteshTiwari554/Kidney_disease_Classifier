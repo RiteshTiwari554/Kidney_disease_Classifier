{
 "cells": [
  {
   "cell_type": "code",
   "execution_count": 1,
   "metadata": {},
   "outputs": [],
   "source": [
    "import os"
   ]
  },
  {
   "cell_type": "code",
   "execution_count": 2,
   "metadata": {},
   "outputs": [
    {
     "data": {
      "text/plain": [
       "'/home/ritesh/work/Kidney_disease_Classifier/research'"
      ]
     },
     "execution_count": 2,
     "metadata": {},
     "output_type": "execute_result"
    }
   ],
   "source": [
    "%pwd"
   ]
  },
  {
   "cell_type": "code",
   "execution_count": 3,
   "metadata": {},
   "outputs": [],
   "source": [
    "os.chdir(\"../\")"
   ]
  },
  {
   "cell_type": "code",
   "execution_count": 4,
   "metadata": {},
   "outputs": [
    {
     "data": {
      "text/plain": [
       "'/home/ritesh/work/Kidney_disease_Classifier'"
      ]
     },
     "execution_count": 4,
     "metadata": {},
     "output_type": "execute_result"
    }
   ],
   "source": [
    "%pwd"
   ]
  },
  {
   "cell_type": "code",
   "execution_count": 5,
   "metadata": {},
   "outputs": [],
   "source": [
    "from dataclasses import dataclass\n",
    "from pathlib import Path\n",
    "\n",
    "\n",
    "@dataclass(frozen=True)\n",
    "class TrainingConfig:\n",
    "    root_dir: Path\n",
    "    trained_model_path: Path\n",
    "    updated_base_model_path: Path\n",
    "    training_data: Path\n",
    "    params_epochs: int\n",
    "    params_batch_size: int\n",
    "    params_is_augmentation: bool\n",
    "    params_image_size: list"
   ]
  },
  {
   "cell_type": "code",
   "execution_count": 6,
   "metadata": {},
   "outputs": [
    {
     "name": "stderr",
     "output_type": "stream",
     "text": [
      "2024-06-01 10:19:37.752977: I tensorflow/tsl/cuda/cudart_stub.cc:28] Could not find cuda drivers on your machine, GPU will not be used.\n",
      "2024-06-01 10:19:38.197172: I tensorflow/tsl/cuda/cudart_stub.cc:28] Could not find cuda drivers on your machine, GPU will not be used.\n",
      "2024-06-01 10:19:38.200877: I tensorflow/core/platform/cpu_feature_guard.cc:182] This TensorFlow binary is optimized to use available CPU instructions in performance-critical operations.\n",
      "To enable the following instructions: AVX2 FMA, in other operations, rebuild TensorFlow with the appropriate compiler flags.\n",
      "2024-06-01 10:19:41.720709: W tensorflow/compiler/tf2tensorrt/utils/py_utils.cc:38] TF-TRT Warning: Could not find TensorRT\n"
     ]
    }
   ],
   "source": [
    "from cnnClassifier.constants import *\n",
    "from cnnClassifier.utils.common import read_yaml, create_directories\n",
    "import tensorflow as tf"
   ]
  },
  {
   "cell_type": "code",
   "execution_count": 7,
   "metadata": {},
   "outputs": [],
   "source": [
    "class ConfigurationManager:\n",
    "    def __init__(\n",
    "        self,\n",
    "        config_filepath = CONFIG_FILE_PATH,\n",
    "        params_filepath = PARAMS_FILE_PATH):\n",
    "\n",
    "        self.config = read_yaml(config_filepath)\n",
    "        self.params = read_yaml(params_filepath)\n",
    "\n",
    "        create_directories([self.config.artifacts_root])\n",
    "\n",
    "\n",
    "    \n",
    "    def get_training_config(self) -> TrainingConfig:\n",
    "        training = self.config.training\n",
    "        prepare_base_model = self.config.prepare_base_model\n",
    "        params = self.params\n",
    "        training_data = os.path.join(self.config.data_ingestion.unzip_dir, \"kidney-ct-scan-image\")\n",
    "        create_directories([\n",
    "            Path(training.root_dir)\n",
    "        ])\n",
    "\n",
    "        training_config = TrainingConfig(\n",
    "            root_dir=Path(training.root_dir),\n",
    "            trained_model_path=Path(training.trained_model_path),\n",
    "            updated_base_model_path=Path(prepare_base_model.updated_base_model_path),\n",
    "            training_data=Path(training_data),\n",
    "            params_epochs=params.EPOCHS,\n",
    "            params_batch_size=params.BATCH_SIZE,\n",
    "            params_is_augmentation=params.AUGMENTATION,\n",
    "            params_image_size=params.IMAGE_SIZE\n",
    "        )\n",
    "\n",
    "        return training_config"
   ]
  },
  {
   "cell_type": "code",
   "execution_count": 8,
   "metadata": {},
   "outputs": [],
   "source": [
    "import os\n",
    "import urllib.request as request\n",
    "from zipfile import ZipFile\n",
    "import tensorflow as tf\n",
    "import time"
   ]
  },
  {
   "cell_type": "code",
   "execution_count": 9,
   "metadata": {},
   "outputs": [],
   "source": [
    "class Training:\n",
    "    def __init__(self, config: TrainingConfig):\n",
    "        self.config = config\n",
    "\n",
    "    \n",
    "    def get_base_model(self):\n",
    "        self.model = tf.keras.models.load_model(\n",
    "            self.config.updated_base_model_path\n",
    "        )\n",
    "\n",
    "    def train_valid_generator(self):\n",
    "\n",
    "        datagenerator_kwargs = dict(\n",
    "            rescale = 1./255,\n",
    "            validation_split=0.20\n",
    "        )\n",
    "\n",
    "        dataflow_kwargs = dict(\n",
    "            target_size=self.config.params_image_size[:-1],\n",
    "            batch_size=self.config.params_batch_size,\n",
    "            interpolation=\"bilinear\"\n",
    "        )\n",
    "\n",
    "        valid_datagenerator = tf.keras.preprocessing.image.ImageDataGenerator(\n",
    "            **datagenerator_kwargs\n",
    "        )\n",
    "\n",
    "        self.valid_generator = valid_datagenerator.flow_from_directory(\n",
    "            directory=self.config.training_data,\n",
    "            subset=\"validation\",\n",
    "            shuffle=False,\n",
    "            **dataflow_kwargs\n",
    "        )\n",
    "\n",
    "        if self.config.params_is_augmentation:\n",
    "            train_datagenerator = tf.keras.preprocessing.image.ImageDataGenerator(\n",
    "                rotation_range=40,\n",
    "                horizontal_flip=True,\n",
    "                width_shift_range=0.2,\n",
    "                height_shift_range=0.2,\n",
    "                shear_range=0.2,\n",
    "                zoom_range=0.2,\n",
    "                **datagenerator_kwargs\n",
    "            )\n",
    "        else:\n",
    "            train_datagenerator = valid_datagenerator\n",
    "\n",
    "        self.train_generator = train_datagenerator.flow_from_directory(\n",
    "            directory=self.config.training_data,\n",
    "            subset=\"training\",\n",
    "            shuffle=True,\n",
    "            **dataflow_kwargs\n",
    "        )\n",
    "\n",
    "        self.valid_generator = valid_datagenerator.flow_from_directory(\n",
    "            directory=self.config.training_data,\n",
    "            subset=\"validation\",\n",
    "            shuffle=False,\n",
    "            **dataflow_kwargs\n",
    "        )\n",
    "    @staticmethod\n",
    "    def save_model(path: Path, model: tf.keras.Model):\n",
    "        model.save(path)\n",
    "\n",
    "\n",
    "\n",
    "    \n",
    "    def train(self):\n",
    "        self.steps_per_epoch = self.train_generator.samples // self.train_generator.batch_size\n",
    "        self.validation_steps = self.valid_generator.samples // self.valid_generator.batch_size\n",
    "\n",
    "        self.model.fit(\n",
    "            self.train_generator,\n",
    "            epochs=self.config.params_epochs,\n",
    "            steps_per_epoch=self.steps_per_epoch,\n",
    "            validation_steps=self.validation_steps,\n",
    "            validation_data=self.valid_generator\n",
    "        )\n",
    "\n",
    "        self.save_model(\n",
    "            path=self.config.trained_model_path,\n",
    "            model=self.model\n",
    "        )"
   ]
  },
  {
   "cell_type": "code",
   "execution_count": 10,
   "metadata": {},
   "outputs": [
    {
     "name": "stdout",
     "output_type": "stream",
     "text": [
      "[2024-06-01 10:19:47,433: INFO: common: yaml file: config/config.yaml loaded successfully]\n",
      "[2024-06-01 10:19:47,443: INFO: common: yaml file: params.yaml loaded successfully]\n",
      "[2024-06-01 10:19:47,446: INFO: common: created directory at: artifacts]\n",
      "[2024-06-01 10:19:47,449: INFO: common: created directory at: artifacts/training]\n"
     ]
    },
    {
     "name": "stderr",
     "output_type": "stream",
     "text": [
      "2024-06-01 10:19:49.317317: I tensorflow/compiler/xla/stream_executor/cuda/cuda_gpu_executor.cc:996] successful NUMA node read from SysFS had negative value (-1), but there must be at least one NUMA node, so returning NUMA node zero. See more at https://github.com/torvalds/linux/blob/v6.0/Documentation/ABI/testing/sysfs-bus-pci#L344-L355\n",
      "2024-06-01 10:19:49.319667: W tensorflow/core/common_runtime/gpu/gpu_device.cc:1956] Cannot dlopen some GPU libraries. Please make sure the missing libraries mentioned above are installed properly if you would like to use GPU. Follow the guide at https://www.tensorflow.org/install/gpu for how to download and setup the required libraries for your platform.\n",
      "Skipping registering GPU devices...\n"
     ]
    },
    {
     "name": "stdout",
     "output_type": "stream",
     "text": [
      "Found 93 images belonging to 2 classes.\n",
      "Found 372 images belonging to 2 classes.\n",
      "Found 93 images belonging to 2 classes.\n",
      "Epoch 1/30\n"
     ]
    },
    {
     "name": "stderr",
     "output_type": "stream",
     "text": [
      "2024-06-01 10:19:52.599110: I tensorflow/core/common_runtime/executor.cc:1197] [/device:CPU:0] (DEBUG INFO) Executor start aborting (this does not indicate an error and you can ignore this message): INVALID_ARGUMENT: You must feed a value for placeholder tensor 'Placeholder/_0' with dtype int32\n",
      "\t [[{{node Placeholder/_0}}]]\n"
     ]
    },
    {
     "name": "stdout",
     "output_type": "stream",
     "text": [
      "11/11 [==============================] - ETA: 0s - loss: 86.1495 - accuracy: 0.5706"
     ]
    },
    {
     "name": "stderr",
     "output_type": "stream",
     "text": [
      "2024-06-01 10:21:10.496331: I tensorflow/core/common_runtime/executor.cc:1197] [/device:CPU:0] (DEBUG INFO) Executor start aborting (this does not indicate an error and you can ignore this message): INVALID_ARGUMENT: You must feed a value for placeholder tensor 'Placeholder/_0' with dtype int32\n",
      "\t [[{{node Placeholder/_0}}]]\n"
     ]
    },
    {
     "name": "stdout",
     "output_type": "stream",
     "text": [
      "11/11 [==============================] - 92s 8s/step - loss: 86.1495 - accuracy: 0.5706 - val_loss: 95.6091 - val_accuracy: 0.3281\n",
      "Epoch 2/30\n",
      "11/11 [==============================] - 89s 8s/step - loss: 84.1740 - accuracy: 0.5625 - val_loss: 81.7343 - val_accuracy: 0.3281\n",
      "Epoch 3/30\n",
      "11/11 [==============================] - 87s 8s/step - loss: 22.3908 - accuracy: 0.8000 - val_loss: 137.6167 - val_accuracy: 0.3438\n",
      "Epoch 4/30\n",
      "11/11 [==============================] - 84s 8s/step - loss: 14.8828 - accuracy: 0.8206 - val_loss: 3.7651 - val_accuracy: 0.8438\n",
      "Epoch 5/30\n",
      "11/11 [==============================] - 81s 7s/step - loss: 47.5765 - accuracy: 0.6794 - val_loss: 13.5970 - val_accuracy: 0.7500\n",
      "Epoch 6/30\n",
      "11/11 [==============================] - 80s 7s/step - loss: 47.5941 - accuracy: 0.6676 - val_loss: 45.9150 - val_accuracy: 0.7500\n",
      "Epoch 7/30\n",
      "11/11 [==============================] - 79s 7s/step - loss: 17.4549 - accuracy: 0.8029 - val_loss: 45.5559 - val_accuracy: 0.3281\n",
      "Epoch 8/30\n",
      "11/11 [==============================] - 80s 7s/step - loss: 39.8149 - accuracy: 0.7000 - val_loss: 7.6658 - val_accuracy: 0.7500\n",
      "Epoch 9/30\n",
      "11/11 [==============================] - 88s 8s/step - loss: 40.1837 - accuracy: 0.7206 - val_loss: 114.2766 - val_accuracy: 0.3438\n",
      "Epoch 10/30\n",
      "11/11 [==============================] - 88s 8s/step - loss: 38.5001 - accuracy: 0.7382 - val_loss: 141.2194 - val_accuracy: 0.3438\n",
      "Epoch 11/30\n",
      "11/11 [==============================] - 88s 8s/step - loss: 11.1462 - accuracy: 0.8500 - val_loss: 2.8009 - val_accuracy: 0.8906\n",
      "Epoch 12/30\n",
      "11/11 [==============================] - 86s 8s/step - loss: 18.5977 - accuracy: 0.8176 - val_loss: 66.9192 - val_accuracy: 0.3438\n",
      "Epoch 13/30\n",
      "11/11 [==============================] - 81s 7s/step - loss: 27.0187 - accuracy: 0.7794 - val_loss: 3.3730 - val_accuracy: 0.8906\n",
      "Epoch 14/30\n",
      "11/11 [==============================] - 80s 7s/step - loss: 22.3199 - accuracy: 0.7559 - val_loss: 4.0213 - val_accuracy: 0.8750\n",
      "Epoch 15/30\n",
      "11/11 [==============================] - 80s 7s/step - loss: 12.5856 - accuracy: 0.8471 - val_loss: 1.7996 - val_accuracy: 0.9688\n",
      "Epoch 16/30\n",
      "11/11 [==============================] - 80s 7s/step - loss: 11.1996 - accuracy: 0.8412 - val_loss: 0.0214 - val_accuracy: 0.9844\n",
      "Epoch 17/30\n",
      "11/11 [==============================] - 79s 7s/step - loss: 1.8856 - accuracy: 0.9441 - val_loss: 2.2052e-06 - val_accuracy: 1.0000\n",
      "Epoch 18/30\n",
      "11/11 [==============================] - 80s 7s/step - loss: 5.0213 - accuracy: 0.9118 - val_loss: 3.6632 - val_accuracy: 0.9062\n",
      "Epoch 19/30\n",
      "11/11 [==============================] - 79s 7s/step - loss: 4.8797 - accuracy: 0.9235 - val_loss: 2.8217e-06 - val_accuracy: 1.0000\n",
      "Epoch 20/30\n",
      "11/11 [==============================] - 80s 7s/step - loss: 1.0508 - accuracy: 0.9618 - val_loss: 0.5937 - val_accuracy: 0.9844\n",
      "Epoch 21/30\n",
      "11/11 [==============================] - 81s 7s/step - loss: 1.1431 - accuracy: 0.9618 - val_loss: 0.0377 - val_accuracy: 0.9844\n",
      "Epoch 22/30\n",
      "11/11 [==============================] - 79s 7s/step - loss: 2.7562 - accuracy: 0.9382 - val_loss: 0.0000e+00 - val_accuracy: 1.0000\n",
      "Epoch 23/30\n",
      "11/11 [==============================] - 81s 7s/step - loss: 2.0150 - accuracy: 0.9545 - val_loss: 0.0000e+00 - val_accuracy: 1.0000\n",
      "Epoch 24/30\n",
      "11/11 [==============================] - 79s 7s/step - loss: 0.4434 - accuracy: 0.9735 - val_loss: 0.0000e+00 - val_accuracy: 1.0000\n",
      "Epoch 25/30\n",
      "11/11 [==============================] - 80s 7s/step - loss: 1.9934 - accuracy: 0.9294 - val_loss: 0.9162 - val_accuracy: 0.9688\n",
      "Epoch 26/30\n",
      "11/11 [==============================] - 81s 7s/step - loss: 0.9065 - accuracy: 0.9735 - val_loss: 0.0000e+00 - val_accuracy: 1.0000\n",
      "Epoch 27/30\n",
      "11/11 [==============================] - 80s 7s/step - loss: 0.0974 - accuracy: 0.9941 - val_loss: 0.0000e+00 - val_accuracy: 1.0000\n",
      "Epoch 28/30\n",
      "11/11 [==============================] - 81s 7s/step - loss: 0.8104 - accuracy: 0.9676 - val_loss: 0.0030 - val_accuracy: 1.0000\n",
      "Epoch 29/30\n",
      "11/11 [==============================] - 85s 8s/step - loss: 0.4944 - accuracy: 0.9706 - val_loss: 0.0000e+00 - val_accuracy: 1.0000\n",
      "Epoch 30/30\n",
      "11/11 [==============================] - 88s 8s/step - loss: 22.5130 - accuracy: 0.8176 - val_loss: 0.0000e+00 - val_accuracy: 1.0000\n"
     ]
    }
   ],
   "source": [
    "try:\n",
    "    config = ConfigurationManager()\n",
    "    training_config = config.get_training_config()\n",
    "    training = Training(config=training_config)\n",
    "    training.get_base_model()\n",
    "    training.train_valid_generator()\n",
    "    training.train()\n",
    "    \n",
    "except Exception as e:\n",
    "    raise e"
   ]
  },
  {
   "cell_type": "markdown",
   "metadata": {},
   "source": [
    "%pwd"
   ]
  },
  {
   "cell_type": "code",
   "execution_count": 11,
   "metadata": {},
   "outputs": [
    {
     "data": {
      "text/plain": [
       "'/home/ritesh/work/Kidney_disease_Classifier'"
      ]
     },
     "execution_count": 11,
     "metadata": {},
     "output_type": "execute_result"
    }
   ],
   "source": [
    "%pwd"
   ]
  },
  {
   "cell_type": "code",
   "execution_count": null,
   "metadata": {},
   "outputs": [],
   "source": []
  }
 ],
 "metadata": {
  "kernelspec": {
   "display_name": "kidney",
   "language": "python",
   "name": "python3"
  },
  "language_info": {
   "codemirror_mode": {
    "name": "ipython",
    "version": 3
   },
   "file_extension": ".py",
   "mimetype": "text/x-python",
   "name": "python",
   "nbconvert_exporter": "python",
   "pygments_lexer": "ipython3",
   "version": "3.8.19"
  }
 },
 "nbformat": 4,
 "nbformat_minor": 2
}
